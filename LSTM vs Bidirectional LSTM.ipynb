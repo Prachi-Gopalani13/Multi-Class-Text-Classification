{
 "cells": [
  {
   "cell_type": "code",
   "execution_count": 3,
   "metadata": {},
   "outputs": [
    {
     "name": "stderr",
     "output_type": "stream",
     "text": [
      "2022-06-07 13:52:33.956461: W tensorflow/stream_executor/platform/default/dso_loader.cc:64] Could not load dynamic library 'libcudart.so.11.0'; dlerror: libcudart.so.11.0: cannot open shared object file: No such file or directory; LD_LIBRARY_PATH: /usr/local/nvidia/lib:/usr/local/nvidia/lib64:/usr/local/cuda/lib64\n",
      "2022-06-07 13:52:33.956513: I tensorflow/stream_executor/cuda/cudart_stub.cc:29] Ignore above cudart dlerror if you do not have a GPU set up on your machine.\n"
     ]
    }
   ],
   "source": [
    "import numpy as np \n",
    "import pandas as pd\n",
    "import matplotlib.pyplot as plt\n",
    "#import seaborn as sns\n",
    "from keras.preprocessing.text import Tokenizer\n",
    "from keras_preprocessing.sequence import pad_sequences\n",
    "from keras.models import Sequential\n",
    "from keras.layers import Dense, Embedding, LSTM, SpatialDropout1D\n",
    "from keras.layers import Bidirectional\n",
    "\n",
    "from sklearn.model_selection import train_test_split\n",
    "from keras.utils.np_utils import to_categorical\n",
    "from keras.callbacks import EarlyStopping\n",
    "from keras.layers import Dropout\n",
    "import re\n",
    "from nltk.corpus import stopwords\n",
    "from nltk import word_tokenize\n",
    "STOPWORDS = set(stopwords.words('english'))\n",
    "from IPython.core.interactiveshell import InteractiveShell\n",
    "InteractiveShell.ast_node_interactivity = 'all'"
   ]
  },
  {
   "cell_type": "code",
   "execution_count": 2,
   "metadata": {},
   "outputs": [
    {
     "name": "stderr",
     "output_type": "stream",
     "text": [
      "/tmp/ipykernel_31120/3780562020.py:1: DtypeWarning: Columns (9) have mixed types. Specify dtype option on import or set low_memory=False.\n",
      "  df = pd.read_csv(r\"complaints.csv\")\n"
     ]
    },
    {
     "data": {
      "text/html": [
       "<div>\n",
       "<style scoped>\n",
       "    .dataframe tbody tr th:only-of-type {\n",
       "        vertical-align: middle;\n",
       "    }\n",
       "\n",
       "    .dataframe tbody tr th {\n",
       "        vertical-align: top;\n",
       "    }\n",
       "\n",
       "    .dataframe thead th {\n",
       "        text-align: right;\n",
       "    }\n",
       "</style>\n",
       "<table border=\"1\" class=\"dataframe\">\n",
       "  <thead>\n",
       "    <tr style=\"text-align: right;\">\n",
       "      <th></th>\n",
       "      <th>Date received</th>\n",
       "      <th>Product</th>\n",
       "      <th>Sub-product</th>\n",
       "      <th>Issue</th>\n",
       "      <th>Sub-issue</th>\n",
       "      <th>Consumer complaint narrative</th>\n",
       "      <th>Company public response</th>\n",
       "      <th>Company</th>\n",
       "      <th>State</th>\n",
       "      <th>ZIP code</th>\n",
       "      <th>Tags</th>\n",
       "      <th>Consumer consent provided?</th>\n",
       "      <th>Submitted via</th>\n",
       "      <th>Date sent to company</th>\n",
       "      <th>Company response to consumer</th>\n",
       "      <th>Timely response?</th>\n",
       "      <th>Consumer disputed?</th>\n",
       "      <th>Complaint ID</th>\n",
       "    </tr>\n",
       "  </thead>\n",
       "  <tbody>\n",
       "    <tr>\n",
       "      <th>0</th>\n",
       "      <td>2022-05-25</td>\n",
       "      <td>Credit reporting, credit repair services, or o...</td>\n",
       "      <td>Credit reporting</td>\n",
       "      <td>Incorrect information on your report</td>\n",
       "      <td>Information belongs to someone else</td>\n",
       "      <td>NaN</td>\n",
       "      <td>NaN</td>\n",
       "      <td>Informative Research</td>\n",
       "      <td>GA</td>\n",
       "      <td>31047.0</td>\n",
       "      <td>NaN</td>\n",
       "      <td>NaN</td>\n",
       "      <td>Web</td>\n",
       "      <td>2022-05-25</td>\n",
       "      <td>Closed with explanation</td>\n",
       "      <td>Yes</td>\n",
       "      <td>NaN</td>\n",
       "      <td>5600849</td>\n",
       "    </tr>\n",
       "    <tr>\n",
       "      <th>1</th>\n",
       "      <td>2022-05-23</td>\n",
       "      <td>Credit reporting, credit repair services, or o...</td>\n",
       "      <td>Credit reporting</td>\n",
       "      <td>Incorrect information on your report</td>\n",
       "      <td>Personal information incorrect</td>\n",
       "      <td>NaN</td>\n",
       "      <td>NaN</td>\n",
       "      <td>EQUIFAX, INC.</td>\n",
       "      <td>TX</td>\n",
       "      <td>77493.0</td>\n",
       "      <td>NaN</td>\n",
       "      <td>NaN</td>\n",
       "      <td>Web</td>\n",
       "      <td>2022-05-23</td>\n",
       "      <td>In progress</td>\n",
       "      <td>Yes</td>\n",
       "      <td>NaN</td>\n",
       "      <td>5589545</td>\n",
       "    </tr>\n",
       "    <tr>\n",
       "      <th>2</th>\n",
       "      <td>2022-05-18</td>\n",
       "      <td>Credit reporting, credit repair services, or o...</td>\n",
       "      <td>Credit reporting</td>\n",
       "      <td>Incorrect information on your report</td>\n",
       "      <td>Information belongs to someone else</td>\n",
       "      <td>NaN</td>\n",
       "      <td>NaN</td>\n",
       "      <td>Experian Information Solutions Inc.</td>\n",
       "      <td>AZ</td>\n",
       "      <td>85210.0</td>\n",
       "      <td>NaN</td>\n",
       "      <td>NaN</td>\n",
       "      <td>Web</td>\n",
       "      <td>2022-05-18</td>\n",
       "      <td>In progress</td>\n",
       "      <td>Yes</td>\n",
       "      <td>NaN</td>\n",
       "      <td>5576961</td>\n",
       "    </tr>\n",
       "    <tr>\n",
       "      <th>3</th>\n",
       "      <td>2022-05-18</td>\n",
       "      <td>Credit reporting, credit repair services, or o...</td>\n",
       "      <td>Credit reporting</td>\n",
       "      <td>Improper use of your report</td>\n",
       "      <td>Reporting company used your report improperly</td>\n",
       "      <td>NaN</td>\n",
       "      <td>Company has responded to the consumer and the ...</td>\n",
       "      <td>Experian Information Solutions Inc.</td>\n",
       "      <td>IL</td>\n",
       "      <td>60123.0</td>\n",
       "      <td>NaN</td>\n",
       "      <td>NaN</td>\n",
       "      <td>Web</td>\n",
       "      <td>2022-05-18</td>\n",
       "      <td>Closed with non-monetary relief</td>\n",
       "      <td>Yes</td>\n",
       "      <td>NaN</td>\n",
       "      <td>5575236</td>\n",
       "    </tr>\n",
       "    <tr>\n",
       "      <th>4</th>\n",
       "      <td>2022-05-18</td>\n",
       "      <td>Credit reporting, credit repair services, or o...</td>\n",
       "      <td>Credit reporting</td>\n",
       "      <td>Improper use of your report</td>\n",
       "      <td>Reporting company used your report improperly</td>\n",
       "      <td>NaN</td>\n",
       "      <td>Company has responded to the consumer and the ...</td>\n",
       "      <td>Experian Information Solutions Inc.</td>\n",
       "      <td>TX</td>\n",
       "      <td>77439.0</td>\n",
       "      <td>NaN</td>\n",
       "      <td>Consent not provided</td>\n",
       "      <td>Web</td>\n",
       "      <td>2022-05-18</td>\n",
       "      <td>Closed with non-monetary relief</td>\n",
       "      <td>Yes</td>\n",
       "      <td>NaN</td>\n",
       "      <td>5574166</td>\n",
       "    </tr>\n",
       "  </tbody>\n",
       "</table>\n",
       "</div>"
      ],
      "text/plain": [
       "  Date received                                            Product  \\\n",
       "0    2022-05-25  Credit reporting, credit repair services, or o...   \n",
       "1    2022-05-23  Credit reporting, credit repair services, or o...   \n",
       "2    2022-05-18  Credit reporting, credit repair services, or o...   \n",
       "3    2022-05-18  Credit reporting, credit repair services, or o...   \n",
       "4    2022-05-18  Credit reporting, credit repair services, or o...   \n",
       "\n",
       "        Sub-product                                 Issue  \\\n",
       "0  Credit reporting  Incorrect information on your report   \n",
       "1  Credit reporting  Incorrect information on your report   \n",
       "2  Credit reporting  Incorrect information on your report   \n",
       "3  Credit reporting           Improper use of your report   \n",
       "4  Credit reporting           Improper use of your report   \n",
       "\n",
       "                                       Sub-issue Consumer complaint narrative  \\\n",
       "0            Information belongs to someone else                          NaN   \n",
       "1                 Personal information incorrect                          NaN   \n",
       "2            Information belongs to someone else                          NaN   \n",
       "3  Reporting company used your report improperly                          NaN   \n",
       "4  Reporting company used your report improperly                          NaN   \n",
       "\n",
       "                             Company public response  \\\n",
       "0                                                NaN   \n",
       "1                                                NaN   \n",
       "2                                                NaN   \n",
       "3  Company has responded to the consumer and the ...   \n",
       "4  Company has responded to the consumer and the ...   \n",
       "\n",
       "                               Company State ZIP code Tags  \\\n",
       "0                 Informative Research    GA  31047.0  NaN   \n",
       "1                        EQUIFAX, INC.    TX  77493.0  NaN   \n",
       "2  Experian Information Solutions Inc.    AZ  85210.0  NaN   \n",
       "3  Experian Information Solutions Inc.    IL  60123.0  NaN   \n",
       "4  Experian Information Solutions Inc.    TX  77439.0  NaN   \n",
       "\n",
       "  Consumer consent provided? Submitted via Date sent to company  \\\n",
       "0                        NaN           Web           2022-05-25   \n",
       "1                        NaN           Web           2022-05-23   \n",
       "2                        NaN           Web           2022-05-18   \n",
       "3                        NaN           Web           2022-05-18   \n",
       "4       Consent not provided           Web           2022-05-18   \n",
       "\n",
       "      Company response to consumer Timely response? Consumer disputed?  \\\n",
       "0          Closed with explanation              Yes                NaN   \n",
       "1                      In progress              Yes                NaN   \n",
       "2                      In progress              Yes                NaN   \n",
       "3  Closed with non-monetary relief              Yes                NaN   \n",
       "4  Closed with non-monetary relief              Yes                NaN   \n",
       "\n",
       "   Complaint ID  \n",
       "0       5600849  \n",
       "1       5589545  \n",
       "2       5576961  \n",
       "3       5575236  \n",
       "4       5574166  "
      ]
     },
     "execution_count": 2,
     "metadata": {},
     "output_type": "execute_result"
    }
   ],
   "source": [
    "df = pd.read_csv(r\"complaints.csv\")\n",
    "df.head(5)"
   ]
  },
  {
   "cell_type": "code",
   "execution_count": 3,
   "metadata": {},
   "outputs": [],
   "source": [
    "df = df[['Product','Consumer complaint narrative']]"
   ]
  },
  {
   "cell_type": "code",
   "execution_count": 4,
   "metadata": {},
   "outputs": [
    {
     "name": "stdout",
     "output_type": "stream",
     "text": [
      "(2693834, 2)\n",
      "(942863, 2)\n"
     ]
    }
   ],
   "source": [
    "print(df.shape)\n",
    "df.dropna(inplace= True)\n",
    "print(df.shape)"
   ]
  },
  {
   "cell_type": "code",
   "execution_count": 5,
   "metadata": {},
   "outputs": [
    {
     "data": {
      "text/plain": [
       "Credit reporting, credit repair services, or other personal consumer reports    394471\n",
       "Debt collection                                                                 176912\n",
       "Mortgage                                                                         91969\n",
       "Credit card or prepaid card                                                      71415\n",
       "Checking or savings account                                                      45394\n",
       "Credit reporting                                                                 31588\n",
       "Student loan                                                                     30813\n",
       "Money transfer, virtual currency, or money service                               22485\n",
       "Credit card                                                                      18838\n",
       "Vehicle loan or lease                                                            17640\n",
       "Bank account or service                                                          14885\n",
       "Payday loan, title loan, or personal loan                                        11982\n",
       "Consumer Loan                                                                     9470\n",
       "Payday loan                                                                       1746\n",
       "Money transfers                                                                   1497\n",
       "Prepaid card                                                                      1450\n",
       "Other financial service                                                            292\n",
       "Virtual currency                                                                    16\n",
       "Name: Product, dtype: int64"
      ]
     },
     "execution_count": 5,
     "metadata": {},
     "output_type": "execute_result"
    }
   ],
   "source": [
    "df.Product.value_counts()"
   ]
  },
  {
   "cell_type": "code",
   "execution_count": 6,
   "metadata": {},
   "outputs": [],
   "source": [
    "df.loc[df['Product'] == 'Credit reporting', 'Product'] = 'Credit reporting, credit repair services, or other personal consumer reports'\n",
    "df.loc[df['Product'] == 'Credit card', 'Product'] = 'Credit card or prepaid card'\n",
    "df.loc[df['Product'] == 'Payday loan', 'Product'] = 'Payday loan, title loan, or personal loan'\n",
    "df.loc[df['Product'] == 'Virtual currency', 'Product'] = 'Money transfer, virtual currency, or money service'\n",
    "df = df[df.Product != 'Other financial service']\n"
   ]
  },
  {
   "cell_type": "code",
   "execution_count": 7,
   "metadata": {},
   "outputs": [
    {
     "data": {
      "text/plain": [
       "0"
      ]
     },
     "execution_count": 7,
     "metadata": {},
     "output_type": "execute_result"
    }
   ],
   "source": [
    "df['Consumer complaint narrative'].isnull().sum()"
   ]
  },
  {
   "cell_type": "markdown",
   "metadata": {},
   "source": [
    "## Text Cleaning"
   ]
  },
  {
   "cell_type": "code",
   "execution_count": 8,
   "metadata": {},
   "outputs": [],
   "source": [
    "df = df.reset_index(drop=True)\n",
    "REPLACE_BY_SPACE_RE = re.compile('[/(){}\\[\\]\\|@,;]')\n",
    "BAD_SYMBOLS_RE = re.compile('[^0-9a-z #+_]')\n",
    "STOPWORDS = set(stopwords.words('english'))\n",
    "\n",
    "def clean_text(text):\n",
    "\n",
    "    text = text.lower() # lowercase text\n",
    "    text = REPLACE_BY_SPACE_RE.sub(' ', text) # replace REPLACE_BY_SPACE_RE symbols by space in text. substitute the matched string in REPLACE_BY_SPACE_RE with space.\n",
    "    text = BAD_SYMBOLS_RE.sub('', text) # remove symbols which are in BAD_SYMBOLS_RE from text. substitute the matched string in BAD_SYMBOLS_RE with nothing. \n",
    "    text = text.replace('x', '')\n",
    "#    text = re.sub(r'\\W+', '', text)\n",
    "    text = ' '.join(word for word in text.split() if word not in STOPWORDS) # remove stopwors from text\n",
    "    return text\n",
    "df['Consumer complaint narrative'] = df['Consumer complaint narrative'].apply(clean_text)\n"
   ]
  },
  {
   "cell_type": "code",
   "execution_count": 9,
   "metadata": {},
   "outputs": [
    {
     "name": "stderr",
     "output_type": "stream",
     "text": [
      "/tmp/ipykernel_31120/3170499845.py:1: FutureWarning: The default value of regex will change from True to False in a future version.\n",
      "  df['Consumer complaint narrative'] = df['Consumer complaint narrative'].str.replace('\\d+', '')\n"
     ]
    }
   ],
   "source": [
    "df['Consumer complaint narrative'] = df['Consumer complaint narrative'].str.replace('\\d+', '')\n"
   ]
  },
  {
   "cell_type": "code",
   "execution_count": 10,
   "metadata": {},
   "outputs": [
    {
     "name": "stdout",
     "output_type": "stream",
     "text": [
      "Found 222504 unique tokens.\n"
     ]
    }
   ],
   "source": [
    "# The maximum number of words to be used. (most frequent)\n",
    "MAX_NB_WORDS = 50000\n",
    "# Max number of words in each complaint.\n",
    "MAX_SEQUENCE_LENGTH = 250\n",
    "# This is fixed.\n",
    "EMBEDDING_DIM = 100\n",
    "\n",
    "tokenizer = Tokenizer(num_words=MAX_NB_WORDS, filters='!\"#$%&()*+,-./:;<=>?@[\\]^_`{|}~', lower=True)\n",
    "tokenizer.fit_on_texts(df['Consumer complaint narrative'].values)\n",
    "word_index = tokenizer.word_index\n",
    "print('Found %s unique tokens.' % len(word_index))"
   ]
  },
  {
   "cell_type": "code",
   "execution_count": 11,
   "metadata": {},
   "outputs": [
    {
     "name": "stdout",
     "output_type": "stream",
     "text": [
      "Shape of data tensor: (942571, 250)\n"
     ]
    }
   ],
   "source": [
    "X = tokenizer.texts_to_sequences(df['Consumer complaint narrative'].values)\n",
    "X = pad_sequences(X, maxlen=MAX_SEQUENCE_LENGTH)\n",
    "print('Shape of data tensor:', X.shape)\n"
   ]
  },
  {
   "cell_type": "code",
   "execution_count": 12,
   "metadata": {},
   "outputs": [
    {
     "name": "stdout",
     "output_type": "stream",
     "text": [
      "Shape of label tensor: (942571, 13)\n"
     ]
    }
   ],
   "source": [
    "Y = pd.get_dummies(df['Product']).values\n",
    "print('Shape of label tensor:', Y.shape)"
   ]
  },
  {
   "cell_type": "code",
   "execution_count": 13,
   "metadata": {},
   "outputs": [
    {
     "name": "stdout",
     "output_type": "stream",
     "text": [
      "(848313, 250) (848313, 13)\n",
      "(94258, 250) (94258, 13)\n"
     ]
    }
   ],
   "source": [
    "X_train, X_test, Y_train, Y_test = train_test_split(X,Y, test_size = 0.10, random_state = 42)\n",
    "print(X_train.shape,Y_train.shape)\n",
    "print(X_test.shape,Y_test.shape)"
   ]
  },
  {
   "cell_type": "markdown",
   "metadata": {},
   "source": [
    "## LSTM Model"
   ]
  },
  {
   "cell_type": "code",
   "execution_count": 14,
   "metadata": {
    "run_control": {
     "marked": false
    }
   },
   "outputs": [],
   "source": [
    "def get_lstm_model(backwards,n_timesteps):\n",
    "    model = Sequential()\n",
    "    model.add(Embedding(MAX_NB_WORDS, EMBEDDING_DIM, input_length=X.shape[1]))\n",
    "    model.add(LSTM(100, dropout=0.2, recurrent_dropout=0.2,go_backwards=backwards))\n",
    "    model.add(Dense(13, activation='softmax'))\n",
    "    model.compile(loss='categorical_crossentropy', optimizer='adam', metrics=['accuracy'])\n",
    "    return model\n"
   ]
  },
  {
   "cell_type": "markdown",
   "metadata": {},
   "source": [
    "### LSTM Forward Direction"
   ]
  },
  {
   "cell_type": "code",
   "execution_count": 15,
   "metadata": {},
   "outputs": [
    {
     "name": "stderr",
     "output_type": "stream",
     "text": [
      "2022-06-04 09:23:45.355407: W tensorflow/stream_executor/platform/default/dso_loader.cc:64] Could not load dynamic library 'libcudart.so.11.0'; dlerror: libcudart.so.11.0: cannot open shared object file: No such file or directory; LD_LIBRARY_PATH: /usr/local/nvidia/lib:/usr/local/nvidia/lib64:/usr/local/cuda/lib64\n",
      "2022-06-04 09:23:45.356014: W tensorflow/stream_executor/platform/default/dso_loader.cc:64] Could not load dynamic library 'libcublas.so.11'; dlerror: libcublas.so.11: cannot open shared object file: No such file or directory; LD_LIBRARY_PATH: /usr/local/nvidia/lib:/usr/local/nvidia/lib64:/usr/local/cuda/lib64\n",
      "2022-06-04 09:23:45.356126: W tensorflow/stream_executor/platform/default/dso_loader.cc:64] Could not load dynamic library 'libcublasLt.so.11'; dlerror: libcublasLt.so.11: cannot open shared object file: No such file or directory; LD_LIBRARY_PATH: /usr/local/nvidia/lib:/usr/local/nvidia/lib64:/usr/local/cuda/lib64\n",
      "2022-06-04 09:23:45.356227: W tensorflow/stream_executor/platform/default/dso_loader.cc:64] Could not load dynamic library 'libcufft.so.10'; dlerror: libcufft.so.10: cannot open shared object file: No such file or directory; LD_LIBRARY_PATH: /usr/local/nvidia/lib:/usr/local/nvidia/lib64:/usr/local/cuda/lib64\n",
      "2022-06-04 09:23:45.356334: W tensorflow/stream_executor/platform/default/dso_loader.cc:64] Could not load dynamic library 'libcurand.so.10'; dlerror: libcurand.so.10: cannot open shared object file: No such file or directory; LD_LIBRARY_PATH: /usr/local/nvidia/lib:/usr/local/nvidia/lib64:/usr/local/cuda/lib64\n",
      "2022-06-04 09:23:45.356451: W tensorflow/stream_executor/platform/default/dso_loader.cc:64] Could not load dynamic library 'libcusolver.so.11'; dlerror: libcusolver.so.11: cannot open shared object file: No such file or directory; LD_LIBRARY_PATH: /usr/local/nvidia/lib:/usr/local/nvidia/lib64:/usr/local/cuda/lib64\n",
      "2022-06-04 09:23:45.356557: W tensorflow/stream_executor/platform/default/dso_loader.cc:64] Could not load dynamic library 'libcusparse.so.11'; dlerror: libcusparse.so.11: cannot open shared object file: No such file or directory; LD_LIBRARY_PATH: /usr/local/nvidia/lib:/usr/local/nvidia/lib64:/usr/local/cuda/lib64\n",
      "2022-06-04 09:23:45.356678: W tensorflow/stream_executor/platform/default/dso_loader.cc:64] Could not load dynamic library 'libcudnn.so.8'; dlerror: libcudnn.so.8: cannot open shared object file: No such file or directory; LD_LIBRARY_PATH: /usr/local/nvidia/lib:/usr/local/nvidia/lib64:/usr/local/cuda/lib64\n",
      "2022-06-04 09:23:45.356718: W tensorflow/core/common_runtime/gpu/gpu_device.cc:1850] Cannot dlopen some GPU libraries. Please make sure the missing libraries mentioned above are installed properly if you would like to use GPU. Follow the guide at https://www.tensorflow.org/install/gpu for how to download and setup the required libraries for your platform.\n",
      "Skipping registering GPU devices...\n",
      "2022-06-04 09:23:45.357807: I tensorflow/core/platform/cpu_feature_guard.cc:193] This TensorFlow binary is optimized with oneAPI Deep Neural Network Library (oneDNN) to use the following CPU instructions in performance-critical operations:  AVX2 FMA\n",
      "To enable them in other operations, rebuild TensorFlow with the appropriate compiler flags.\n"
     ]
    },
    {
     "name": "stdout",
     "output_type": "stream",
     "text": [
      "Epoch 1/5\n",
      "11930/11930 [==============================] - 2628s 220ms/step - loss: 0.6360 - accuracy: 0.7968 - val_loss: 0.4777 - val_accuracy: 0.8401\n",
      "Epoch 2/5\n",
      "11930/11930 [==============================] - 2632s 221ms/step - loss: 0.4524 - accuracy: 0.8472 - val_loss: 0.4406 - val_accuracy: 0.8497\n",
      "Epoch 3/5\n",
      "11930/11930 [==============================] - 2634s 221ms/step - loss: 0.4035 - accuracy: 0.8621 - val_loss: 0.4348 - val_accuracy: 0.8529\n",
      "Epoch 4/5\n",
      "11930/11930 [==============================] - 2652s 222ms/step - loss: 0.3662 - accuracy: 0.8746 - val_loss: 0.4405 - val_accuracy: 0.8522\n",
      "Epoch 5/5\n",
      "11930/11930 [==============================] - 2609s 219ms/step - loss: 0.3354 - accuracy: 0.8853 - val_loss: 0.4473 - val_accuracy: 0.8514\n"
     ]
    }
   ],
   "source": [
    "n_timesteps= 10\n",
    "\n",
    "# lstm forwards\n",
    "model_lstm_forw = get_lstm_model(False,n_timesteps)\n",
    "hist_lstm_forw =  model_lstm_forw.fit(X_train, Y_train, epochs=5, batch_size=64,validation_split=0.1)\n"
   ]
  },
  {
   "cell_type": "markdown",
   "metadata": {},
   "source": [
    "### LSTM Backward Direction"
   ]
  },
  {
   "cell_type": "code",
   "execution_count": 16,
   "metadata": {},
   "outputs": [
    {
     "name": "stdout",
     "output_type": "stream",
     "text": [
      "Epoch 1/5\n",
      "11930/11930 [==============================] - 2587s 217ms/step - loss: 0.8665 - accuracy: 0.7189 - val_loss: 0.5183 - val_accuracy: 0.8314\n",
      "Epoch 2/5\n",
      "11930/11930 [==============================] - 2604s 218ms/step - loss: 0.4844 - accuracy: 0.8398 - val_loss: 0.4631 - val_accuracy: 0.8449\n",
      "Epoch 3/5\n",
      "11930/11930 [==============================] - 2611s 219ms/step - loss: 0.4256 - accuracy: 0.8567 - val_loss: 0.4444 - val_accuracy: 0.8505\n",
      "Epoch 4/5\n",
      "11930/11930 [==============================] - 2656s 223ms/step - loss: 0.3868 - accuracy: 0.8696 - val_loss: 0.4493 - val_accuracy: 0.8499\n",
      "Epoch 5/5\n",
      "11930/11930 [==============================] - 2615s 219ms/step - loss: 0.3566 - accuracy: 0.8799 - val_loss: 0.4551 - val_accuracy: 0.8510\n"
     ]
    }
   ],
   "source": [
    "# lstm forwards\n",
    "model_lstm_back = get_lstm_model(True,n_timesteps)\n",
    "hist_lstm_back =  model_lstm_back.fit(X_train, Y_train, epochs=5, batch_size=64,validation_split=0.1)\n"
   ]
  },
  {
   "cell_type": "markdown",
   "metadata": {},
   "source": [
    "### Bidirectional LSTM : Concat mode"
   ]
  },
  {
   "cell_type": "code",
   "execution_count": 27,
   "metadata": {},
   "outputs": [],
   "source": [
    "def get_bi_lstm_model(mode,n_timesteps):\n",
    "    model = Sequential()\n",
    "    model.add(Embedding(MAX_NB_WORDS, EMBEDDING_DIM, input_length=X.shape[1]))\n",
    "    model.add(Bidirectional(LSTM(100, dropout=0.2, recurrent_dropout=0.2),merge_mode= mode))\n",
    "    model.add(Dense(13, activation='softmax'))\n",
    "    model.compile(loss='categorical_crossentropy', optimizer='adam', metrics=['accuracy'])\n",
    "    return model\n"
   ]
  },
  {
   "cell_type": "code",
   "execution_count": 28,
   "metadata": {},
   "outputs": [
    {
     "name": "stdout",
     "output_type": "stream",
     "text": [
      "Epoch 1/5\n",
      "11930/11930 [==============================] - 2975s 249ms/step - loss: 0.6810 - accuracy: 0.7864 - val_loss: 0.4981 - val_accuracy: 0.8327\n",
      "Epoch 2/5\n",
      "11930/11930 [==============================] - 2931s 246ms/step - loss: 0.4619 - accuracy: 0.8448 - val_loss: 0.4458 - val_accuracy: 0.8481\n",
      "Epoch 3/5\n",
      "11930/11930 [==============================] - 2933s 246ms/step - loss: 0.4079 - accuracy: 0.8610 - val_loss: 0.4382 - val_accuracy: 0.8516\n",
      "Epoch 4/5\n",
      "11930/11930 [==============================] - 2937s 246ms/step - loss: 0.3695 - accuracy: 0.8739 - val_loss: 0.4388 - val_accuracy: 0.8522\n",
      "Epoch 5/5\n",
      "11930/11930 [==============================] - 2939s 246ms/step - loss: 0.3375 - accuracy: 0.8850 - val_loss: 0.4527 - val_accuracy: 0.8523\n"
     ]
    }
   ],
   "source": [
    "# bidirectional concat\n",
    "mode_bilstm_concat = get_bi_lstm_model('concat',n_timesteps)\n",
    "hist_bilstm_concat =  mode_bilstm_concat.fit(X_train, Y_train, epochs=5, batch_size=64,validation_split=0.1)\n"
   ]
  },
  {
   "cell_type": "code",
   "execution_count": 31,
   "metadata": {},
   "outputs": [
    {
     "data": {
      "image/png": "[encoded data removed]",
      "text/plain": [
       "<Figure size 432x288 with 1 Axes>"
      ]
     },
     "metadata": {
      "needs_background": "light"
     },
     "output_type": "display_data"
    }
   ],
   "source": [
    "## Accuracy Plot\n",
    "plt.title('Accuracy')\n",
    "plt.plot(hist_lstm_forw.history['accuracy'], label='LSTM FORWARD')\n",
    "plt.plot(hist_lstm_back.history['accuracy'], label='LSTM BACKWARD')\n",
    "plt.plot(hist_bilstm_concat.history['accuracy'], label='Bi-Directional-LSTM')\n",
    "\n",
    "plt.legend()\n",
    "plt.show();\n"
   ]
  },
  {
   "cell_type": "code",
   "execution_count": 32,
   "metadata": {},
   "outputs": [
    {
     "data": {
      "image/png": "[encoded data removed]",
      "text/plain": [
       "<Figure size 432x288 with 1 Axes>"
      ]
     },
     "metadata": {
      "needs_background": "light"
     },
     "output_type": "display_data"
    }
   ],
   "source": [
    "## Loss Plot\n",
    "plt.title('Loss')\n",
    "plt.plot(hist_lstm_forw.history['loss'], label='LSTM FORWARD')\n",
    "plt.plot(hist_lstm_back.history['loss'], label='LSTM BACKWARD')\n",
    "plt.plot(hist_bilstm_concat.history['loss'], label='Bi-Directional-LSTM')\n",
    "\n",
    "plt.legend()\n",
    "plt.show();\n"
   ]
  },
  {
   "cell_type": "code",
   "execution_count": null,
   "metadata": {},
   "outputs": [],
   "source": []
  },
  {
   "cell_type": "code",
   "execution_count": null,
   "metadata": {},
   "outputs": [],
   "source": []
  },
  {
   "cell_type": "markdown",
   "metadata": {},
   "source": [
    "### Bidirectional LSTM : Sum mode"
   ]
  },
  {
   "cell_type": "code",
   "execution_count": 33,
   "metadata": {},
   "outputs": [
    {
     "name": "stdout",
     "output_type": "stream",
     "text": [
      "Epoch 1/5\n",
      "11930/11930 [==============================] - 2959s 248ms/step - loss: 0.6701 - accuracy: 0.7902 - val_loss: 0.4972 - val_accuracy: 0.8342\n",
      "Epoch 2/5\n",
      "11930/11930 [==============================] - 2960s 248ms/step - loss: 0.4618 - accuracy: 0.8445 - val_loss: 0.4451 - val_accuracy: 0.8491\n",
      "Epoch 3/5\n",
      "11930/11930 [==============================] - 2958s 248ms/step - loss: 0.4071 - accuracy: 0.8610 - val_loss: 0.4370 - val_accuracy: 0.8505\n",
      "Epoch 4/5\n",
      "11930/11930 [==============================] - 2964s 248ms/step - loss: 0.3685 - accuracy: 0.8737 - val_loss: 0.4396 - val_accuracy: 0.8525\n",
      "Epoch 5/5\n",
      "11930/11930 [==============================] - 3008s 252ms/step - loss: 0.3368 - accuracy: 0.8853 - val_loss: 0.4470 - val_accuracy: 0.8515\n"
     ]
    }
   ],
   "source": [
    "# bidirectional concat\n",
    "mode_bilstm_sum = get_bi_lstm_model('sum',n_timesteps)\n",
    "hist_bilstm_sum =  mode_bilstm_sum.fit(X_train, Y_train, epochs=5, batch_size=64,validation_split=0.1)\n"
   ]
  },
  {
   "cell_type": "markdown",
   "metadata": {},
   "source": [
    "### Bidirectional LSTM : Multiply mode"
   ]
  },
  {
   "cell_type": "code",
   "execution_count": 35,
   "metadata": {},
   "outputs": [
    {
     "name": "stdout",
     "output_type": "stream",
     "text": [
      "Epoch 1/5\n",
      "11930/11930 [==============================] - 2915s 244ms/step - loss: 0.6066 - accuracy: 0.8038 - val_loss: 0.4681 - val_accuracy: 0.8426\n",
      "Epoch 2/5\n",
      "11930/11930 [==============================] - 2914s 244ms/step - loss: 0.4420 - accuracy: 0.8502 - val_loss: 0.4361 - val_accuracy: 0.8493\n",
      "Epoch 3/5\n",
      "11930/11930 [==============================] - 2912s 244ms/step - loss: 0.3958 - accuracy: 0.8648 - val_loss: 0.4318 - val_accuracy: 0.8521\n",
      "Epoch 4/5\n",
      "11930/11930 [==============================] - 2852s 239ms/step - loss: 0.3609 - accuracy: 0.8765 - val_loss: 0.4364 - val_accuracy: 0.8538\n",
      "Epoch 5/5\n",
      "11930/11930 [==============================] - 2846s 239ms/step - loss: 0.3319 - accuracy: 0.8865 - val_loss: 0.4510 - val_accuracy: 0.8506\n"
     ]
    }
   ],
   "source": [
    "# bidirectional Multiply\n",
    "mode_bilstm_multiply = get_bi_lstm_model('mul',n_timesteps)\n",
    "hist_bilstm_multiply =  mode_bilstm_multiply.fit(X_train, Y_train, epochs=5, batch_size=64,validation_split=0.1)\n"
   ]
  },
  {
   "cell_type": "markdown",
   "metadata": {},
   "source": [
    "### Bidirectional LSTM : Average mode"
   ]
  },
  {
   "cell_type": "code",
   "execution_count": 36,
   "metadata": {},
   "outputs": [
    {
     "name": "stdout",
     "output_type": "stream",
     "text": [
      "Epoch 1/5\n",
      "11930/11930 [==============================] - 2951s 247ms/step - loss: 0.7058 - accuracy: 0.7759 - val_loss: 0.4931 - val_accuracy: 0.8357\n",
      "Epoch 2/5\n",
      "11930/11930 [==============================] - 2947s 247ms/step - loss: 0.4604 - accuracy: 0.8455 - val_loss: 0.4491 - val_accuracy: 0.8464\n",
      "Epoch 3/5\n",
      "11930/11930 [==============================] - 2949s 247ms/step - loss: 0.4097 - accuracy: 0.8607 - val_loss: 0.4380 - val_accuracy: 0.8505\n",
      "Epoch 4/5\n",
      "11930/11930 [==============================] - 2946s 247ms/step - loss: 0.3745 - accuracy: 0.8723 - val_loss: 0.4376 - val_accuracy: 0.8526\n",
      "Epoch 5/5\n",
      "11930/11930 [==============================] - 2945s 247ms/step - loss: 0.3453 - accuracy: 0.8825 - val_loss: 0.4487 - val_accuracy: 0.8504\n"
     ]
    }
   ],
   "source": [
    "# bidirectional Average\n",
    "mode_bilstm_avg = get_bi_lstm_model('ave',n_timesteps)\n",
    "hist_bilstm_avg =  mode_bilstm_avg.fit(X_train, Y_train, epochs=5, batch_size=64,validation_split=0.1)\n"
   ]
  },
  {
   "cell_type": "code",
   "execution_count": 38,
   "metadata": {},
   "outputs": [
    {
     "data": {
      "image/png": "[encoded data removed]",
      "text/plain": [
       "<Figure size 432x288 with 1 Axes>"
      ]
     },
     "metadata": {
      "needs_background": "light"
     },
     "output_type": "display_data"
    }
   ],
   "source": [
    "## Accuracy Plot\n",
    "plt.title('Accuracy')\n",
    "plt.plot(hist_bilstm_concat.history['accuracy'], label='Concat')\n",
    "plt.plot(hist_bilstm_sum.history['accuracy'], label='Sum')\n",
    "plt.plot(hist_bilstm_multiply.history['accuracy'], label='Multiply')\n",
    "plt.plot(hist_bilstm_avg.history['accuracy'], label='Average')\n",
    "\n",
    "plt.legend()\n",
    "plt.show();\n"
   ]
  },
  {
   "cell_type": "code",
   "execution_count": 40,
   "metadata": {},
   "outputs": [
    {
     "data": {
      "image/png": "[encoded data removed]",
      "text/plain": [
       "<Figure size 432x288 with 1 Axes>"
      ]
     },
     "metadata": {
      "needs_background": "light"
     },
     "output_type": "display_data"
    }
   ],
   "source": [
    "## Loss Plot\n",
    "plt.title('Loss')\n",
    "plt.plot(hist_bilstm_concat.history['loss'], label='Concat')\n",
    "plt.plot(hist_bilstm_sum.history['loss'], label='Sum')\n",
    "plt.plot(hist_bilstm_multiply.history['loss'], label='Multiply')\n",
    "plt.plot(hist_bilstm_avg.history['loss'], label='Average')\n",
    "\n",
    "plt.legend()\n",
    "plt.show();\n"
   ]
  },
  {
   "cell_type": "code",
   "execution_count": null,
   "metadata": {},
   "outputs": [],
   "source": []
  },
  {
   "cell_type": "markdown",
   "metadata": {},
   "source": [
    "LSTM VS BiDirectional LSTM\n",
    "LSTM Forward: loss: 0.3354 - accuracy: 0.8853\n",
    "LSTM Backward: loss: 0.3566 - accuracy: 0.8799\n",
    "BiDirectional LSTM (Conacat): loss: 0.3375 - accuracy: 0.8850\n",
    "BiDirectional LSTM (Sum): loss: 0.3368 - accuracy: 0.8853\n",
    "BiDirectional LSTM (Multiply): loss: 0.3319 - accuracy: 0.8865\n",
    "BiDirectional LSTM (Average): loss: 0.3453 - accuracy: 0.8825"
   ]
  },
  {
   "cell_type": "markdown",
   "metadata": {},
   "source": [
    "## Testing"
   ]
  },
  {
   "cell_type": "code",
   "execution_count": null,
   "metadata": {},
   "outputs": [],
   "source": [
    "new_complaint = ['I am a victim of identity theft and someone stole my identity and personal information to open up a Visa credit card account with Bank of America. The following Bank of America Visa credit card account do not belong to me : XXXX.']\n",
    "seq = tokenizer.texts_to_sequences(new_complaint)\n",
    "padded = pad_sequences(seq, maxlen=MAX_SEQUENCE_LENGTH)\n",
    "pred = model.predict(padded)\n",
    "labels = ['Credit reporting, credit repair services, or other personal consumer reports', 'Debt collection', 'Mortgage', 'Credit card or prepaid card', 'Student loan', 'Bank account or service', 'Checking or savings account', 'Consumer Loan', 'Payday loan, title loan, or personal loan', 'Vehicle loan or lease', 'Money transfer, virtual currency, or money service', 'Money transfers', 'Prepaid card']\n",
    "print(pred, labels[np.argmax(pred)])\n"
   ]
  },
  {
   "cell_type": "code",
   "execution_count": null,
   "metadata": {},
   "outputs": [],
   "source": []
  }
 ],
 "metadata": {
  "hide_input": false,
  "kernelspec": {
   "display_name": "Environment (conda_venv_prachi)",
   "language": "python",
   "name": "conda_venv_prachi"
  },
  "language_info": {
   "codemirror_mode": {
    "name": "ipython",
    "version": 3
   },
   "file_extension": ".py",
   "mimetype": "text/x-python",
   "name": "python",
   "nbconvert_exporter": "python",
   "pygments_lexer": "ipython3",
   "version": "3.8.12"
  },
  "toc": {
   "base_numbering": 1,
   "nav_menu": {},
   "number_sections": true,
   "sideBar": true,
   "skip_h1_title": false,
   "title_cell": "Table of Contents",
   "title_sidebar": "Contents",
   "toc_cell": false,
   "toc_position": {},
   "toc_section_display": true,
   "toc_window_display": false
  }
 },
 "nbformat": 4,
 "nbformat_minor": 2
}
